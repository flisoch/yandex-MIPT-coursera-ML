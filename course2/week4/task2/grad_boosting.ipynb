{
 "cells": [
  {
   "cell_type": "markdown",
   "metadata": {},
   "source": [
    "# Градиентный бустинг своими руками\n",
    "\n",
    "**Внимание:** в тексте задания произошли изменения - поменялось число деревьев (теперь 50), правило изменения величины шага в задании 3 и добавился параметр `random_state` у решающего дерева. Правильные ответы не поменялись, но теперь их проще получить. Также исправлена опечатка в функции `gbm_predict`.\n",
    "\n",
    "В этом задании будет использоваться датасет `boston` из `sklearn.datasets`. Оставьте последние 25% объектов для контроля качества, разделив `X` и `y` на `X_train`, `y_train` и `X_test`, `y_test`.\n",
    "\n",
    "Целью задания будет реализовать простой вариант градиентного бустинга над регрессионными деревьями для случая квадратичной функции потерь."
   ]
  },
  {
   "cell_type": "code",
   "execution_count": 46,
   "metadata": {},
   "outputs": [],
   "source": [
    "import numpy as np\n",
    "import matplotlib.pyplot as plt\n",
    "import scipy as sc\n",
    "from sklearn.datasets import load_boston\n",
    "from sklearn.tree import DecisionTreeRegressor\n",
    "from sklearn.model_selection import train_test_split, RandomizedSearchCV\n",
    "from sklearn.metrics import mean_squared_error\n",
    "from sklearn.ensemble import GradientBoostingRegressor\n",
    "from sklearn.linear_model import LinearRegression"
   ]
  },
  {
   "cell_type": "code",
   "execution_count": 2,
   "metadata": {},
   "outputs": [],
   "source": [
    "data = load_boston()\n",
    "X_train, X_test, y_train, y_test = train_test_split(data.data, data.target) # четверть на тест"
   ]
  },
  {
   "cell_type": "markdown",
   "metadata": {},
   "source": [
    "## Задание 1\n",
    "\n",
    "Как вы уже знаете из лекций, **бустинг** - это метод построения композиций базовых алгоритмов с помощью последовательного добавления к текущей композиции нового алгоритма с некоторым коэффициентом. \n",
    "\n",
    "Градиентный бустинг обучает каждый новый алгоритм так, чтобы он приближал антиградиент ошибки по ответам композиции на обучающей выборке. Аналогично минимизации функций методом градиентного спуска, в градиентном бустинге мы подправляем композицию, изменяя алгоритм в направлении антиградиента ошибки.\n",
    "\n",
    "Воспользуйтесь формулой из лекций, задающей ответы на обучающей выборке, на которые нужно обучать новый алгоритм (фактически это лишь чуть более подробно расписанный градиент от ошибки), и получите частный ее случай, если функция потерь `L` - квадрат отклонения ответа композиции `a(x)` от правильного ответа `y` на данном `x`.\n",
    "\n",
    "Если вы давно не считали производную самостоятельно, вам поможет таблица производных элементарных функций (которую несложно найти в интернете) и правило дифференцирования сложной функции. После дифференцирования квадрата у вас возникнет множитель 2 — т.к. нам все равно предстоит выбирать коэффициент, с которым будет добавлен новый базовый алгоритм, проигноируйте этот множитель при дальнейшем построении алгоритма."
   ]
  },
  {
   "cell_type": "markdown",
   "metadata": {},
   "source": [
    "## Задание 2\n",
    "\n",
    "Заведите массив для объектов `DecisionTreeRegressor` (будем их использовать в качестве базовых алгоритмов) и для вещественных чисел (это будут коэффициенты перед базовыми алгоритмами). \n",
    "\n",
    "В цикле от обучите последовательно 50 решающих деревьев с параметрами `max_depth=5` и `random_state=42` (остальные параметры - по умолчанию). В бустинге зачастую используются сотни и тысячи деревьев, но мы ограничимся 50, чтобы алгоритм работал быстрее, и его было проще отлаживать (т.к. цель задания разобраться, как работает метод). Каждое дерево должно обучаться на одном и том же множестве объектов, но ответы, которые учится прогнозировать дерево, будут меняться в соответствие с полученным в задании 1 правилом. \n",
    "\n",
    "Попробуйте для начала всегда брать коэффициент равным 0.9. Обычно оправдано выбирать коэффициент значительно меньшим - порядка 0.05 или 0.1, но т.к. в нашем учебном примере на стандартном датасете будет всего 50 деревьев, возьмем для начала шаг побольше.\n",
    "\n",
    "В процессе реализации обучения вам потребуется функция, которая будет вычислять прогноз построенной на данный момент композиции деревьев на выборке `X`:\n",
    "\n",
    "```\n",
    "def gbm_predict(X):\n",
    "    return [sum([coeff * algo.predict([x])[0] for algo, coeff in zip(base_algorithms_list, coefficients_list)]) for x in X]\n",
    "(считаем, что base_algorithms_list - список с базовыми алгоритмами, coefficients_list - список с коэффициентами перед алгоритмами)\n",
    "```\n",
    "\n",
    "Эта же функция поможет вам получить прогноз на контрольной выборке и оценить качество работы вашего алгоритма с помощью `mean_squared_error` в `sklearn.metrics`. \n",
    "\n",
    "Возведите результат в степень 0.5, чтобы получить `RMSE`. Полученное значение `RMSE` — **ответ в пункте 2**."
   ]
  },
  {
   "cell_type": "code",
   "execution_count": 3,
   "metadata": {},
   "outputs": [],
   "source": [
    "class XGboost:\n",
    "    \n",
    "    class dummy_tree:\n",
    "        \n",
    "        def __init__(self, y):\n",
    "            self.y = y\n",
    "        \n",
    "        def predict(self, X):\n",
    "            y_mean = self.y.mean()\n",
    "            return np.array([y_mean for x in X])\n",
    "            \n",
    "    \n",
    "    def __init__(self, num_trees=50, base_tree_depth=5, alpha=0.9):\n",
    "        self.num_trees = num_trees\n",
    "        self.alpha = alpha\n",
    "        self.base_algorithms_list = []\n",
    "        self.coefficients_list = []\n",
    "        self.base_tree_depth = base_tree_depth\n",
    "\n",
    "    \n",
    "    def fit(self, X, y):\n",
    "        i = 0\n",
    "        first_tree = self.dummy_tree(y)\n",
    "        self.base_algorithms_list.append(first_tree)\n",
    "        self.coefficients_list.append(self.alpha)\n",
    "        \n",
    "        error = self.error(y, first_tree.predict(X))\n",
    "        \n",
    "        while(i < self.num_trees):\n",
    "            s = y - self.gbm_predict(X)\n",
    "            next_tree = DecisionTreeRegressor(max_depth=self.base_tree_depth, random_state=42, )\n",
    "            next_tree.fit(X, s)\n",
    "            self.base_algorithms_list.append(next_tree)\n",
    "            alpha = self.calculate_alpha(i)\n",
    "            self.coefficients_list.append(alpha)\n",
    "            \n",
    "            error = self.error(y, self.gbm_predict(X))\n",
    "            if i % 10 == 0:\n",
    "                print(\"error {0}, prediction on iteration: {1}\".format(error, i))\n",
    "                \n",
    "            i += 1\n",
    "        \n",
    "    def calculate_alpha(self, base_tree_index):\n",
    "        return self.alpha\n",
    "    \n",
    "    def error(self, y, y_predicted):\n",
    "        return np.mean((y - y_predicted)**2)\n",
    "    \n",
    "    def gbm_predict(self, X):\n",
    "        return [sum([coeff * algo.predict([x])[0] for algo, coeff in zip(self.base_algorithms_list, self.coefficients_list)]) for x in X]\n",
    "\n",
    "    def predict(self, X):\n",
    "        return self.gbm_predict(X)"
   ]
  },
  {
   "cell_type": "code",
   "execution_count": 11,
   "metadata": {},
   "outputs": [
    {
     "name": "stdout",
     "output_type": "stream",
     "text": [
      "error 7.523911209902955, prediction on iteration: 0\n",
      "error 0.18442347011760815, prediction on iteration: 10\n",
      "error 0.02128947616827712, prediction on iteration: 20\n",
      "error 0.001236073571693321, prediction on iteration: 30\n",
      "error 0.0001145350093407747, prediction on iteration: 40\n"
     ]
    }
   ],
   "source": [
    "xgb = XGboost()\n",
    "xgb.fit(X_train, y_train)"
   ]
  },
  {
   "cell_type": "code",
   "execution_count": 12,
   "metadata": {},
   "outputs": [
    {
     "name": "stdout",
     "output_type": "stream",
     "text": [
      "error on test  sample 22.61218741969943\n"
     ]
    }
   ],
   "source": [
    "y_predicted = xgb.predict(X_test)\n",
    "mse = mean_squared_error(y_test, y_predicted)\n",
    "print(\"error on test  sample\", mse)\n",
    "\n",
    "with open('answer2.txt', 'w') as f:\n",
    "    f.write(str(mse**0.5))"
   ]
  },
  {
   "cell_type": "markdown",
   "metadata": {},
   "source": [
    "## Задание 3\n",
    "\n",
    "Вас может также беспокоить, что двигаясь с постоянным шагом, вблизи минимума ошибки ответы на обучающей выборке меняются слишком резко, перескакивая через минимум. \n",
    "\n",
    "Попробуйте уменьшать вес перед каждым алгоритмом с каждой следующей итерацией по формуле `0.9 / (1.0 + i)`, где `i` - номер итерации (от 0 до 49). Используйте качество работы алгоритма как **ответ в пункте 3**. \n",
    "\n",
    "В реальности часто применяется следующая стратегия выбора шага: как только выбран алгоритм, подберем коэффициент перед ним численным методом оптимизации таким образом, чтобы отклонение от правильных ответов было минимальным. Мы не будем предлагать вам реализовать это для выполнения задания, но рекомендуем попробовать разобраться с такой стратегией и реализовать ее при случае для себя."
   ]
  },
  {
   "cell_type": "code",
   "execution_count": 13,
   "metadata": {
    "collapsed": true,
    "jupyter": {
     "outputs_hidden": true
    }
   },
   "outputs": [],
   "source": [
    "class XGboost_2(XGboost):\n",
    "    \n",
    "    def calculate_alpha(self, base_tree_index):\n",
    "        return self.alpha / (1.0 + base_tree_index)"
   ]
  },
  {
   "cell_type": "code",
   "execution_count": 14,
   "metadata": {},
   "outputs": [
    {
     "name": "stdout",
     "output_type": "stream",
     "text": [
      "error 7.523911209902955, prediction on iteration: 0\n",
      "error 1.9655097987572396, prediction on iteration: 10\n",
      "error 1.5618112612608661, prediction on iteration: 20\n",
      "error 1.3911391124720636, prediction on iteration: 30\n",
      "error 1.2915498391367142, prediction on iteration: 40\n"
     ]
    }
   ],
   "source": [
    "xgb_2 = XGboost_2()\n",
    "xgb_2.fit(X_train, y_train)"
   ]
  },
  {
   "cell_type": "code",
   "execution_count": 15,
   "metadata": {},
   "outputs": [
    {
     "name": "stdout",
     "output_type": "stream",
     "text": [
      "error on test  sample 21.347274672048044\n"
     ]
    }
   ],
   "source": [
    "y_predicted_2 = xgb_2.predict(X_test)\n",
    "mse_2 = mean_squared_error(y_test, y_predicted_2)\n",
    "print(\"error on test  sample\", mse_2)\n",
    "\n",
    "with open('answer3.txt', 'w') as f:\n",
    "    f.write(str(mse_2**0.5))"
   ]
  },
  {
   "cell_type": "markdown",
   "metadata": {},
   "source": [
    "## Задание 4\n",
    "\n",
    "Реализованный вами метод - градиентный бустинг над деревьями - очень популярен в машинном обучении. Он представлен как в самой библиотеке `sklearn`, так и в сторонней библиотеке `XGBoost`, которая имеет свой питоновский интерфейс. На практике `XGBoost` работает заметно лучше `GradientBoostingRegressor` из `sklearn`, но для этого задания вы можете использовать любую реализацию. \n",
    "\n",
    "Исследуйте, переобучается ли градиентный бустинг с ростом числа итераций (и подумайте, почему), а также с ростом глубины деревьев. На основе наблюдений выпишите через пробел номера правильных из приведенных ниже утверждений в порядке возрастания номера (это будет **ответ в п.4**):\n",
    "\n",
    "    1. С увеличением числа деревьев, начиная с некоторого момента, качество работы градиентного бустинга не меняется существенно.\n",
    "\n",
    "    2. С увеличением числа деревьев, начиная с некоторого момента, градиентный бустинг начинает переобучаться.\n",
    "\n",
    "    3. С ростом глубины деревьев, начиная с некоторого момента, качество работы градиентного бустинга на тестовой выборке начинает ухудшаться.\n",
    "\n",
    "\n",
    "4. С ростом глубины деревьев, начиная с некоторого момента, качество работы градиентного бустинга перестает существенно изменяться"
   ]
  },
  {
   "cell_type": "code",
   "execution_count": 38,
   "metadata": {},
   "outputs": [
    {
     "name": "stdout",
     "output_type": "stream",
     "text": [
      "Wall time: 30.1 s\n"
     ]
    },
    {
     "data": {
      "text/plain": [
       "RandomizedSearchCV(cv=None, error_score=nan,\n",
       "                   estimator=GradientBoostingRegressor(alpha=0.9, ccp_alpha=0.0,\n",
       "                                                       criterion='friedman_mse',\n",
       "                                                       init=None,\n",
       "                                                       learning_rate=0.1,\n",
       "                                                       loss='ls', max_depth=3,\n",
       "                                                       max_features=None,\n",
       "                                                       max_leaf_nodes=None,\n",
       "                                                       min_impurity_decrease=0.0,\n",
       "                                                       min_impurity_split=None,\n",
       "                                                       min_samples_leaf=1,\n",
       "                                                       min_samples_split=2,\n",
       "                                                       min_weight_fraction_leaf=0.0,\n",
       "                                                       n_estimators=100...\n",
       "       783, 786, 789, 792, 795, 798, 801, 804, 807, 810, 813, 816, 819,\n",
       "       822, 825, 828, 831, 834, 837, 840, 843, 846, 849, 852, 855, 858,\n",
       "       861, 864, 867, 870, 873, 876, 879, 882, 885, 888, 891, 894, 897,\n",
       "       900, 903, 906, 909, 912, 915, 918, 921, 924, 927, 930, 933, 936,\n",
       "       939, 942, 945, 948, 951, 954, 957, 960, 963, 966, 969, 972, 975,\n",
       "       978, 981, 984, 987, 990, 993, 996, 999])},\n",
       "                   pre_dispatch='2*n_jobs', random_state=None, refit=True,\n",
       "                   return_train_score=False, scoring=None, verbose=0)"
      ]
     },
     "execution_count": 38,
     "metadata": {},
     "output_type": "execute_result"
    }
   ],
   "source": [
    "\n",
    "params = {\"max_depth\":np.arange(3, 1000, 3)}\n",
    "cv = RandomizedSearchCV(GradientBoostingRegressor(), param_distributions=params, n_iter=100, n_jobs=-1)\n",
    "%time cv.fit(X_train, y_train)\n"
   ]
  },
  {
   "cell_type": "code",
   "execution_count": 39,
   "metadata": {},
   "outputs": [
    {
     "data": {
      "text/plain": [
       "<matplotlib.collections.PathCollection at 0x1c87a861948>"
      ]
     },
     "execution_count": 39,
     "metadata": {},
     "output_type": "execute_result"
    },
    {
     "data": {
      "image/png": "[encoded data removed]",
      "text/plain": [
       "<Figure size 432x288 with 1 Axes>"
      ]
     },
     "metadata": {
      "needs_background": "light"
     },
     "output_type": "display_data"
    }
   ],
   "source": [
    "max_depths = cv.cv_results_[\"params\"]\n",
    "max_depths = [result['max_depth'] for result in max_depths]\n",
    "\n",
    "score = cv.cv_results_[\"mean_test_score\"]\n",
    "    \n",
    "plt.scatter(max_depths, score)"
   ]
  },
  {
   "cell_type": "code",
   "execution_count": 40,
   "metadata": {},
   "outputs": [
    {
     "name": "stdout",
     "output_type": "stream",
     "text": [
      "Wall time: 57.2 s\n"
     ]
    },
    {
     "data": {
      "text/plain": [
       "RandomizedSearchCV(cv=None, error_score=nan,\n",
       "                   estimator=GradientBoostingRegressor(alpha=0.9, ccp_alpha=0.0,\n",
       "                                                       criterion='friedman_mse',\n",
       "                                                       init=None,\n",
       "                                                       learning_rate=0.1,\n",
       "                                                       loss='ls', max_depth=3,\n",
       "                                                       max_features=None,\n",
       "                                                       max_leaf_nodes=None,\n",
       "                                                       min_impurity_decrease=0.0,\n",
       "                                                       min_impurity_split=None,\n",
       "                                                       min_samples_leaf=1,\n",
       "                                                       min_samples_split=2,\n",
       "                                                       min_weight_fraction_leaf=0.0,\n",
       "                                                       n_estimators=100...\n",
       "       783, 786, 789, 792, 795, 798, 801, 804, 807, 810, 813, 816, 819,\n",
       "       822, 825, 828, 831, 834, 837, 840, 843, 846, 849, 852, 855, 858,\n",
       "       861, 864, 867, 870, 873, 876, 879, 882, 885, 888, 891, 894, 897,\n",
       "       900, 903, 906, 909, 912, 915, 918, 921, 924, 927, 930, 933, 936,\n",
       "       939, 942, 945, 948, 951, 954, 957, 960, 963, 966, 969, 972, 975,\n",
       "       978, 981, 984, 987, 990, 993, 996, 999])},\n",
       "                   pre_dispatch='2*n_jobs', random_state=None, refit=True,\n",
       "                   return_train_score=False, scoring=None, verbose=0)"
      ]
     },
     "execution_count": 40,
     "metadata": {},
     "output_type": "execute_result"
    }
   ],
   "source": [
    "params = {\"n_estimators\":np.arange(3, 1000, 3)}\n",
    "cv = RandomizedSearchCV(GradientBoostingRegressor(), param_distributions=params, n_iter=100, n_jobs=-1)\n",
    "%time cv.fit(X_train, y_train)\n"
   ]
  },
  {
   "cell_type": "code",
   "execution_count": 45,
   "metadata": {},
   "outputs": [
    {
     "data": {
      "text/plain": [
       "<matplotlib.collections.PathCollection at 0x1c87b90ca48>"
      ]
     },
     "execution_count": 45,
     "metadata": {},
     "output_type": "execute_result"
    },
    {
     "data": {
      "image/png": "[encoded data removed]",
      "text/plain": [
       "<Figure size 432x288 with 1 Axes>"
      ]
     },
     "metadata": {
      "needs_background": "light"
     },
     "output_type": "display_data"
    }
   ],
   "source": [
    "n_estimators = cv.cv_results_[\"params\"]\n",
    "n_estimators = [result['n_estimators'] for result in n_estimators]\n",
    "\n",
    "score = cv.cv_results_[\"mean_test_score\"]\n",
    "    \n",
    "plt.scatter(n_estimators, score)"
   ]
  },
  {
   "cell_type": "markdown",
   "metadata": {},
   "source": [
    "## Задание 5\n",
    "\n",
    "Сравните получаемое с помощью градиентного бустинга качество с качеством работы линейной регрессии. \n",
    "\n",
    "Для этого обучите `LinearRegression` из `sklearn.n_estimatorsnear_model` (с параметрами по умолчанию) на обучающей выборке и оцените для прогнозов полученного алгоритма на тестовой выборке `RMSE`. Полученное качество - ответ в **пункте 5**. \n",
    "\n",
    "В данном примере качество работы простой модели должно было оказаться хуже, но не стоит забывать, что так бывает не всегда. В заданиях к этому курсу вы еще встретите пример обратной ситуации."
   ]
  },
  {
   "cell_type": "code",
   "execution_count": 48,
   "metadata": {},
   "outputs": [],
   "source": [
    "lr = LinearRegression()\n",
    "gbr = GradientBoostingRegressor()\n",
    "lr.fit(X_train, y_train)\n",
    "gbr.fit(X_train, y_train)\n",
    "prediction_lr = lr.predict(X_test)\n",
    "prediction_gbr = gbr.predict(X_test)"
   ]
  },
  {
   "cell_type": "code",
   "execution_count": 52,
   "metadata": {},
   "outputs": [
    {
     "name": "stdout",
     "output_type": "stream",
     "text": [
      "4.938364650007101 3.7350232243403525\n"
     ]
    }
   ],
   "source": [
    "rmse_lr = mean_squared_error(y_test, prediction_lr)**0.5\n",
    "rmse_gbr = mean_squared_error(y_test, prediction_gbr)**0.5\n",
    "print(rmse_lr, rmse_gbr)"
   ]
  },
  {
   "cell_type": "code",
   "execution_count": 53,
   "metadata": {},
   "outputs": [],
   "source": [
    "with open('answer5.txt', 'w') as f:\n",
    "    f.write(str(rmse_lr))"
   ]
  },
  {
   "cell_type": "code",
   "execution_count": null,
   "metadata": {},
   "outputs": [],
   "source": []
  }
 ],
 "metadata": {
  "kernelspec": {
   "display_name": "Python 3",
   "language": "python",
   "name": "python3"
  },
  "language_info": {
   "codemirror_mode": {
    "name": "ipython",
    "version": 3
   },
   "file_extension": ".py",
   "mimetype": "text/x-python",
   "name": "python",
   "nbconvert_exporter": "python",
   "pygments_lexer": "ipython3",
   "version": "3.7.6"
  }
 },
 "nbformat": 4,
 "nbformat_minor": 4
}
