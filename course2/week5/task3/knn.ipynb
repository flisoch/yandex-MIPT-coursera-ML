{
 "cells": [
  {
   "cell_type": "code",
   "execution_count": 17,
   "metadata": {},
   "outputs": [],
   "source": [
    "import numpy as np\n",
    "from sklearn.datasets import load_digits\n",
    "from sklearn.model_selection import train_test_split\n",
    "from sklearn.metrics import accuracy_score\n",
    "from sklearn.neighbors import KNeighborsClassifier\n",
    "from sklearn.ensemble import RandomForestClassifier"
   ]
  },
  {
   "cell_type": "code",
   "execution_count": 2,
   "metadata": {},
   "outputs": [],
   "source": [
    "digits = load_digits()"
   ]
  },
  {
   "cell_type": "code",
   "execution_count": 3,
   "metadata": {},
   "outputs": [],
   "source": [
    "class KNN():\n",
    "    \n",
    "    def __init__(self, k=1):\n",
    "        self.k = k\n",
    "    \n",
    "    def fit(self, X_train, y_train):\n",
    "        self.x = X_train\n",
    "        self.y = y_train\n",
    "    \n",
    "    \n",
    "    def predict(self, X_test):\n",
    "        y_predicted = []\n",
    "        for x in X_test:\n",
    "            y_predicted.append(self.nearest_neighbours_label(x))\n",
    "        return np.array(y_predicted)\n",
    "    \n",
    "    \n",
    "    def nearest_neighbours_label(self, x):\n",
    "        min_distances_indexes = np.array([[90000, 0] for i in range(self.k)])\n",
    "        \n",
    "        for i in range(len(self.x)):\n",
    "            neighbour = self.x[i]\n",
    "            neighbour_distance = self.distance(x, neighbour)            \n",
    "            min_distances_indexes = self.replace_furthest_neighbour(min_distances_indexes, neighbour_distance, i)\n",
    "\n",
    "        return self.most_frequent_label(min_distances_indexes)\n",
    "    \n",
    "    \n",
    "    def distance(self, x1, x2):\n",
    "        distance = 0\n",
    "        for i in range(len(x1)):\n",
    "            distance += (x1[i] - x2[i])**2\n",
    "        return distance\n",
    "    \n",
    "    def most_frequent_label(self, min_distances_indexes):\n",
    "        y_labels = []\n",
    "        for distance, index in min_distances_indexes:\n",
    "            y_labels.append(self.y[index])\n",
    "        \n",
    "        return np.median(y_labels) \n",
    "    \n",
    "    \n",
    "    def replace_furthest_neighbour(self, min_distances_indexes, contender_distance, contender_index):\n",
    "    \n",
    "        furthest_neighbour = [min_distances_indexes[0][0], 0]\n",
    "        \n",
    "        i = 0\n",
    "        for distance, index in min_distances_indexes:\n",
    "            if distance > furthest_neighbour[0]:\n",
    "                furthest_neighbour = [distance, i]\n",
    "            i += 1\n",
    "        \n",
    "        if contender_distance < furthest_neighbour[0]:\n",
    "            min_distances_indexes[furthest_neighbour[1]] = [contender_distance, contender_index]    \n",
    "        return min_distances_indexes\n",
    "            \n",
    "    \n",
    "            "
   ]
  },
  {
   "cell_type": "code",
   "execution_count": 4,
   "metadata": {},
   "outputs": [],
   "source": [
    "knn = KNN(1)"
   ]
  },
  {
   "cell_type": "code",
   "execution_count": 5,
   "metadata": {},
   "outputs": [],
   "source": [
    "X_train, X_test, y_train, y_test = train_test_split(digits.data, digits.target, test_size=0.25, random_state=0)"
   ]
  },
  {
   "cell_type": "code",
   "execution_count": 6,
   "metadata": {},
   "outputs": [],
   "source": [
    "knn.fit(X_train, y_train)"
   ]
  },
  {
   "cell_type": "code",
   "execution_count": 7,
   "metadata": {},
   "outputs": [],
   "source": [
    "result = knn.predict(X_test)"
   ]
  },
  {
   "cell_type": "code",
   "execution_count": 8,
   "metadata": {},
   "outputs": [
    {
     "data": {
      "text/plain": [
       "0.9911111111111112"
      ]
     },
     "execution_count": 8,
     "metadata": {},
     "output_type": "execute_result"
    }
   ],
   "source": [
    "accuracy_score(y_test, result)"
   ]
  },
  {
   "cell_type": "code",
   "execution_count": 18,
   "metadata": {},
   "outputs": [],
   "source": [
    "clf = RandomForestClassifier(n_estimators=1000)"
   ]
  },
  {
   "cell_type": "code",
   "execution_count": 19,
   "metadata": {},
   "outputs": [],
   "source": [
    "clf.fit(X_train, y_train)\n",
    "y_pred = clf.predict(X_test)"
   ]
  },
  {
   "cell_type": "code",
   "execution_count": 20,
   "metadata": {},
   "outputs": [
    {
     "data": {
      "text/plain": [
       "0.98"
      ]
     },
     "execution_count": 20,
     "metadata": {},
     "output_type": "execute_result"
    }
   ],
   "source": [
    "accuracy_score(y_test, y_pred)"
   ]
  },
  {
   "cell_type": "code",
   "execution_count": null,
   "metadata": {},
   "outputs": [],
   "source": []
  }
 ],
 "metadata": {
  "kernelspec": {
   "display_name": "Python 3",
   "language": "python",
   "name": "python3"
  },
  "language_info": {
   "codemirror_mode": {
    "name": "ipython",
    "version": 3
   },
   "file_extension": ".py",
   "mimetype": "text/x-python",
   "name": "python",
   "nbconvert_exporter": "python",
   "pygments_lexer": "ipython3",
   "version": "3.7.6"
  }
 },
 "nbformat": 4,
 "nbformat_minor": 4
}
